{
 "cells": [
  {
   "cell_type": "markdown",
   "metadata": {},
   "source": [
    "# Finding the Best Markets to Advertise in\n",
    "\n",
    "We're working for an e-learning company that offers courses on programming. Most of them are on web and mobile development, but we also cover many other domains like data science, game development, blockchain development, etc.\n",
    "\n",
    "We want to promote out project. To achieve this goal we want to invest in advertise. But effectiveness of any advertise strongly depends not only on it's quality and quality of advertised product, but on market in which we promote this product. If market has a strong demand on our product, advertising company would be successfull. So our goal is to find two best markets to advertise our product in."
   ]
  },
  {
   "cell_type": "code",
   "execution_count": null,
   "metadata": {},
   "outputs": [],
   "source": []
  }
 ],
 "metadata": {
  "kernelspec": {
   "display_name": "Python 3",
   "language": "python",
   "name": "python3"
  },
  "language_info": {
   "codemirror_mode": {
    "name": "ipython",
    "version": 3
   },
   "file_extension": ".py",
   "mimetype": "text/x-python",
   "name": "python",
   "nbconvert_exporter": "python",
   "pygments_lexer": "ipython3",
   "version": "3.7.3"
  }
 },
 "nbformat": 4,
 "nbformat_minor": 2
}
